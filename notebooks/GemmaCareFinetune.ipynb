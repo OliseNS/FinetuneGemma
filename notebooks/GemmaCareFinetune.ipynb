{
 "cells": [
  {
   "cell_type": "markdown",
   "id": "566580ef",
   "metadata": {
    "language": "markdown"
   },
   "source": [
    "# Gemma Fine-tuning with Unsloth\n",
    "\n",
    "Fine-tuning Gemma 2b model to create GemmaCare0625-LoRA."
   ]
  },
  {
   "cell_type": "code",
   "execution_count": null,
   "id": "dadf4bfd",
   "metadata": {
    "language": "python"
   },
   "outputs": [],
   "source": [
    "import os\n",
    "\n",
    "# Set HF token if needed\n",
    "# os.environ[\"HF_TOKEN\"] = \"your_token_here\""
   ]
  },
  {
   "cell_type": "markdown",
   "id": "95d59f70",
   "metadata": {
    "language": "markdown"
   },
   "source": [
    "## Install Dependencies"
   ]
  },
  {
   "cell_type": "code",
   "execution_count": null,
   "id": "e3e26a5c",
   "metadata": {
    "language": "python"
   },
   "outputs": [],
   "source": [
    "%pip install unsloth --upgrade --no-cache-dir\n",
    "import torch\n",
    "if torch.cuda.get_device_capability()[0] >= 8:\n",
    "    %pip install --no-deps packaging ninja einops \"flash-attn>=2.6.3\""
   ]
  },
  {
   "cell_type": "markdown",
   "id": "579347e1",
   "metadata": {
    "language": "markdown"
   },
   "source": [
    "## Load Model"
   ]
  },
  {
   "cell_type": "code",
   "execution_count": null,
   "id": "d5870dbb",
   "metadata": {
    "language": "python"
   },
   "outputs": [],
   "source": [
    "from unsloth import FastLanguageModel\n",
    "import torch\n",
    "\n",
    "max_seq_length = 2048\n",
    "\n",
    "model, tokenizer = FastLanguageModel.from_pretrained(\n",
    "    model_name = \"unsloth/gemma-2-2b\",\n",
    "    max_seq_length = max_seq_length,\n",
    "    dtype = None,        # None for auto detection.\n",
    "    load_in_4bit = True, # Use 4bit quantization to reduce memory usage.\n",
    ")"
   ]
  },
  {
   "cell_type": "markdown",
   "id": "4a809128",
   "metadata": {
    "language": "markdown"
   },
   "source": [
    "## Load Local Dataset"
   ]
  },
  {
   "cell_type": "code",
   "execution_count": null,
   "id": "888fc881",
   "metadata": {
    "language": "python"
   },
   "outputs": [],
   "source": [
    "from datasets import load_dataset\n",
    "import os\n",
    "\n",
    "# Load local dataset\n",
    "dataset_path = os.path.join(\"..\", \"data\", \"train.jsonl\")\n",
    "dataset = load_dataset(\"json\", data_files=dataset_path, split=\"train\")"
   ]
  },
  {
   "cell_type": "code",
   "execution_count": null,
   "id": "9bbc6d6c",
   "metadata": {
    "language": "python"
   },
   "outputs": [],
   "source": [
    "# Check dataset sample\n",
    "print(dataset[0])"
   ]
  },
  {
   "cell_type": "markdown",
   "id": "24f5250f",
   "metadata": {
    "language": "markdown"
   },
   "source": [
    "## Prompt Template"
   ]
  },
  {
   "cell_type": "code",
   "execution_count": null,
   "id": "5d8d4bb9",
   "metadata": {
    "language": "python"
   },
   "outputs": [],
   "source": [
    "alpaca_prompt_template = \"\"\"Below is an instruction that describes a task, paired with an input that provides further context. Write a response that appropriately completes the request.\n",
    "\n",
    "### Instruction:\n",
    "{}\n",
    "\n",
    "### Input:\n",
    "{}\n",
    "\n",
    "### Response:\n",
    "{}\"\"\"\n",
    "\n",
    "EOS_TOKEN = tokenizer.eos_token # EOS_TOKEN is necessary."
   ]
  },
  {
   "cell_type": "markdown",
   "id": "98172f62",
   "metadata": {
    "language": "markdown"
   },
   "source": [
    "## Format Dataset"
   ]
  },
  {
   "cell_type": "code",
   "execution_count": null,
   "id": "9bd9b8ae",
   "metadata": {
    "language": "python"
   },
   "outputs": [],
   "source": [
    "def formatting_prompts_func(examples):\n",
    "    instructions = examples[\"instruction\"]\n",
    "    inputs       = examples[\"input\"]\n",
    "    outputs      = examples[\"output\"]\n",
    "    # EOS_TOKEN is necessary, otherwise your generation will go on forever!\n",
    "    texts = [alpaca_prompt_template.format(instruction, input, output) + EOS_TOKEN\n",
    "                                  for instruction, input, output in\n",
    "                                  zip(instructions, inputs, outputs)]\n",
    "    return { \"text\" : texts, }\n",
    "pass\n",
    "\n",
    "dataset = dataset.map(formatting_prompts_func, batched = True,)"
   ]
  },
  {
   "cell_type": "markdown",
   "id": "initial_inference",
   "metadata": {
    "language": "markdown"
   },
   "source": [
    "## Initial Inference (Before Training)\n",
    "\n",
    "Let's test the model before training to see baseline performance."
   ]
  },
  {
   "cell_type": "code",
   "execution_count": null,
   "id": "initial_inference_code",
   "metadata": {
    "language": "python"
   },
   "outputs": [],
   "source": [
    "# Test model before training\n",
    "from transformers import TextStreamer\n",
    "\n",
    "# Prepare model for inference\n",
    "FastLanguageModel.for_inference(model)\n",
    "\n",
    "# Test with a sample prompt\n",
    "test_prompt = alpaca_prompt_template.format(\n",
    "    \"What is artificial intelligence?\",\n",
    "    \"\",\n",
    "    \"\"\n",
    ")\n",
    "\n",
    "inputs = tokenizer([test_prompt], return_tensors=\"pt\").to(\"cuda\")\n",
    "text_streamer = TextStreamer(tokenizer)\n",
    "\n",
    "print(\"=== BEFORE TRAINING ===\")\n",
    "with torch.no_grad():\n",
    "    _ = model.generate(**inputs, streamer=text_streamer, max_new_tokens=100)\n",
    "\n",
    "print(\"\\n\" + \"=\"*50 + \"\\n\")"
   ]
  },
  {
   "cell_type": "markdown",
   "id": "1dfcb576",
   "metadata": {
    "language": "markdown"
   },
   "source": [
    "## LoRA Configuration"
   ]
  },
  {
   "cell_type": "code",
   "execution_count": null,
   "id": "d1d89941",
   "metadata": {
    "language": "python"
   },
   "outputs": [],
   "source": [
    "model = FastLanguageModel.get_peft_model(\n",
    "    model,\n",
    "    r = 16, # LoRA attention dimension\n",
    "    target_modules = [\"q_proj\", \"k_proj\", \"v_proj\", \"o_proj\",\n",
    "                      \"gate_proj\", \"up_proj\", \"down_proj\",],\n",
    "    lora_alpha = 16,  # Alpha parameter for LoRA scaling\n",
    "    lora_dropout = 0, # Supports any, but = 0 is optimized\n",
    "    bias = \"none\",    # Supports any, but = \"none\" is optimized\n",
    "    use_gradient_checkpointing = \"unsloth\", # True or \"unsloth\" for very long context\n",
    "    random_state = 3407,\n",
    "    use_rslora = False,  # Rank stabilized LoRA\n",
    "    loftq_config = None, # LoRA-Fine-Tuning-Aware Quantization\n",
    ")"
   ]
  },
  {
   "cell_type": "markdown",
   "id": "3473bb0f",
   "metadata": {
    "language": "markdown"
   },
   "source": [
    "## Training Configuration"
   ]
  },
  {
   "cell_type": "code",
   "execution_count": null,
   "id": "644d1cd2",
   "metadata": {
    "language": "python"
   },
   "outputs": [],
   "source": [
    "from transformers import TrainingArguments\n",
    "\n",
    "training_args = TrainingArguments(\n",
    "    per_device_train_batch_size = 2,\n",
    "    gradient_accumulation_steps = 4,\n",
    "    warmup_steps = 5,\n",
    "    # num_train_epochs = 1, # Set this for 1 full training run.\n",
    "    max_steps = 60,\n",
    "    learning_rate = 2e-4,\n",
    "    fp16 = not torch.cuda.is_bf16_supported(),\n",
    "    bf16 = torch.cuda.is_bf16_supported(),\n",
    "    logging_steps = 1,\n",
    "    optim = \"adamw_8bit\",\n",
    "    weight_decay = 0.01,\n",
    "    lr_scheduler_type = \"linear\",\n",
    "    seed = 42,\n",
    "    output_dir = \"outputs\",\n",
    "    report_to = \"none\",\n",
    ")"
   ]
  },
  {
   "cell_type": "markdown",
   "id": "d62a5e71",
   "metadata": {
    "language": "markdown"
   },
   "source": [
    "## Train Model"
   ]
  },
  {
   "cell_type": "code",
   "execution_count": null,
   "id": "7a6cdb06",
   "metadata": {
    "language": "python"
   },
   "outputs": [],
   "source": [
    "from trl import SFTTrainer\n",
    "from transformers import TrainingArguments\n",
    "from unsloth import is_bfloat16_supported\n",
    "\n",
    "trainer = SFTTrainer(\n",
    "    model = model,\n",
    "    tokenizer = tokenizer,\n",
    "    train_dataset = dataset,\n",
    "    dataset_text_field = \"text\",\n",
    "    max_seq_length = max_seq_length,\n",
    "    dataset_num_proc = 2,\n",
    "    # Setting packing as False can speed up training five times\n",
    "    # for short sequences.\n",
    "    packing = False,\n",
    "    args = training_args\n",
    ")"
   ]
  },
  {
   "cell_type": "markdown",
   "id": "d71485f3",
   "metadata": {
    "language": "markdown"
   },
   "source": [
    "Start training:"
   ]
  },
  {
   "cell_type": "code",
   "execution_count": null,
   "id": "237aef17",
   "metadata": {
    "language": "python"
   },
   "outputs": [],
   "source": [
    "trainer_stats = trainer.train()"
   ]
  },
  {
   "cell_type": "markdown",
   "id": "f0acdb68",
   "metadata": {
    "language": "markdown"
   },
   "source": [
    "## Save Model"
   ]
  },
  {
   "cell_type": "code",
   "execution_count": null,
   "id": "985acc81",
   "metadata": {
    "language": "python"
   },
   "outputs": [],
   "source": [
    "new_model = \"gemma_ft_unsloth\"\n",
    "model.save_pretrained(new_model)\n",
    "tokenizer.save_pretrained(new_model)"
   ]
  },
  {
   "cell_type": "code",
   "execution_count": null,
   "id": "7279861e",
   "metadata": {
    "language": "python"
   },
   "outputs": [],
   "source": [
    "# Push the trained model to Hub (optional)\n",
    "# model.push_to_hub(\"your_hf_username/gemma_ft_unsloth\")"
   ]
  },
  {
   "cell_type": "markdown",
   "id": "891ffc92",
   "metadata": {
    "language": "markdown"
   },
   "source": [
    "## Post-Training Inference"
   ]
  },
  {
   "cell_type": "code",
   "execution_count": null,
   "id": "b0bc5dc1",
   "metadata": {
    "language": "python"
   },
   "outputs": [],
   "source": [
    "model, tokenizer = FastLanguageModel.from_pretrained(\n",
    "    model_name = new_model, # Your finetuned model name\n",
    "    max_seq_length = max_seq_length,\n",
    "    dtype = None,\n",
    "    load_in_4bit = True,\n",
    ")\n",
    "FastLanguageModel.for_inference(model)"
   ]
  },
  {
   "cell_type": "markdown",
   "id": "8bb1bf5d",
   "metadata": {
    "language": "markdown"
   },
   "source": [
    "Test the fine-tuned model:"
   ]
  },
  {
   "cell_type": "code",
   "execution_count": null,
   "id": "c279f8a5",
   "metadata": {
    "language": "python"
   },
   "outputs": [],
   "source": [
    "from transformers import TextStreamer\n",
    "\n",
    "# Test the same prompt after training\n",
    "test_prompt = alpaca_prompt_template.format(\n",
    "    \"What is artificial intelligence?\",\n",
    "    \"\",\n",
    "    \"\"\n",
    ")\n",
    "\n",
    "inputs = tokenizer([test_prompt], return_tensors=\"pt\").to(\"cuda\")\n",
    "text_streamer = TextStreamer(tokenizer)\n",
    "\n",
    "print(\"=== AFTER TRAINING ===\")\n",
    "_ = model.generate(**inputs, streamer=text_streamer, max_new_tokens=100)"
   ]
  }
 ],
 "metadata": {
  "language_info": {
   "name": "python"
  }
 },
 "nbformat": 4,
 "nbformat_minor": 5
}
